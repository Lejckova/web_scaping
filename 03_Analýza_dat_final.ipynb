{
 "cells": [
  {
   "cell_type": "code",
   "execution_count": 30,
   "metadata": {},
   "outputs": [],
   "source": [
    "import pandas as pd\n",
    "import re\n",
    "import numpy as np\n",
    "import matplotlib.pyplot as plt"
   ]
  },
  {
   "cell_type": "code",
   "execution_count": 31,
   "metadata": {},
   "outputs": [
    {
     "data": {
      "text/html": [
       "<div>\n",
       "<style scoped>\n",
       "    .dataframe tbody tr th:only-of-type {\n",
       "        vertical-align: middle;\n",
       "    }\n",
       "\n",
       "    .dataframe tbody tr th {\n",
       "        vertical-align: top;\n",
       "    }\n",
       "\n",
       "    .dataframe thead th {\n",
       "        text-align: right;\n",
       "    }\n",
       "</style>\n",
       "<table border=\"1\" class=\"dataframe\">\n",
       "  <thead>\n",
       "    <tr style=\"text-align: right;\">\n",
       "      <th></th>\n",
       "      <th>Name</th>\n",
       "      <th>Company</th>\n",
       "      <th>Location</th>\n",
       "      <th>Technologies</th>\n",
       "      <th>Salary Low</th>\n",
       "      <th>Salary High</th>\n",
       "      <th>Currency</th>\n",
       "      <th>Salary_avg</th>\n",
       "      <th>location_country</th>\n",
       "      <th>is_senior</th>\n",
       "      <th>pozice</th>\n",
       "    </tr>\n",
       "  </thead>\n",
       "  <tbody>\n",
       "    <tr>\n",
       "      <th>0</th>\n",
       "      <td>marketing (data) analyst</td>\n",
       "      <td>Codete</td>\n",
       "      <td>remote</td>\n",
       "      <td>Data  SQL  Python  R</td>\n",
       "      <td>7000.0</td>\n",
       "      <td>12500.0</td>\n",
       "      <td>PLN</td>\n",
       "      <td>9750.0</td>\n",
       "      <td>NaN</td>\n",
       "      <td>0</td>\n",
       "      <td>analyst</td>\n",
       "    </tr>\n",
       "    <tr>\n",
       "      <th>1</th>\n",
       "      <td>senior data analyst</td>\n",
       "      <td>Infogain Technologies Sp. z o.o.</td>\n",
       "      <td>remote</td>\n",
       "      <td>Data  SQL  R programming  Data management</td>\n",
       "      <td>21840.0</td>\n",
       "      <td>26880.0</td>\n",
       "      <td>PLN</td>\n",
       "      <td>24360.0</td>\n",
       "      <td>NaN</td>\n",
       "      <td>1</td>\n",
       "      <td>analyst</td>\n",
       "    </tr>\n",
       "    <tr>\n",
       "      <th>2</th>\n",
       "      <td>data analyst</td>\n",
       "      <td>Sunscrapers</td>\n",
       "      <td>remote</td>\n",
       "      <td>Data  SQL  Data analysis  Data visualization</td>\n",
       "      <td>20000.0</td>\n",
       "      <td>25000.0</td>\n",
       "      <td>PLN</td>\n",
       "      <td>22500.0</td>\n",
       "      <td>NaN</td>\n",
       "      <td>0</td>\n",
       "      <td>analyst</td>\n",
       "    </tr>\n",
       "    <tr>\n",
       "      <th>3</th>\n",
       "      <td>data analyst /product analyst</td>\n",
       "      <td>apreel Sp. z o.o.</td>\n",
       "      <td>warsaw</td>\n",
       "      <td>Data  SQL  Cloud computing  UX</td>\n",
       "      <td>23520.0</td>\n",
       "      <td>28560.0</td>\n",
       "      <td>PLN</td>\n",
       "      <td>26040.0</td>\n",
       "      <td>PL</td>\n",
       "      <td>0</td>\n",
       "      <td>analyst</td>\n",
       "    </tr>\n",
       "    <tr>\n",
       "      <th>4</th>\n",
       "      <td>mid sql data analyst</td>\n",
       "      <td>Ośrodek Przetwarzania Informacji - Państwowy I...</td>\n",
       "      <td>warsaw</td>\n",
       "      <td>Data  SQL  pandas  Python</td>\n",
       "      <td>8000.0</td>\n",
       "      <td>10000.0</td>\n",
       "      <td>PLN</td>\n",
       "      <td>9000.0</td>\n",
       "      <td>PL</td>\n",
       "      <td>0</td>\n",
       "      <td>analyst</td>\n",
       "    </tr>\n",
       "  </tbody>\n",
       "</table>\n",
       "</div>"
      ],
      "text/plain": [
       "                              Name  \\\n",
       "0        marketing (data) analyst    \n",
       "1             senior data analyst    \n",
       "2                    data analyst    \n",
       "3   data analyst /product analyst    \n",
       "4            mid sql data analyst    \n",
       "\n",
       "                                             Company Location  \\\n",
       "0                                             Codete   remote   \n",
       "1                   Infogain Technologies Sp. z o.o.   remote   \n",
       "2                                        Sunscrapers   remote   \n",
       "3                                  apreel Sp. z o.o.   warsaw   \n",
       "4  Ośrodek Przetwarzania Informacji - Państwowy I...   warsaw   \n",
       "\n",
       "                                   Technologies  Salary Low  Salary High  \\\n",
       "0                          Data  SQL  Python  R      7000.0      12500.0   \n",
       "1     Data  SQL  R programming  Data management     21840.0      26880.0   \n",
       "2  Data  SQL  Data analysis  Data visualization     20000.0      25000.0   \n",
       "3                Data  SQL  Cloud computing  UX     23520.0      28560.0   \n",
       "4                     Data  SQL  pandas  Python      8000.0      10000.0   \n",
       "\n",
       "  Currency  Salary_avg location_country  is_senior   pozice  \n",
       "0      PLN      9750.0              NaN          0  analyst  \n",
       "1      PLN     24360.0              NaN          1  analyst  \n",
       "2      PLN     22500.0              NaN          0  analyst  \n",
       "3      PLN     26040.0               PL          0  analyst  \n",
       "4      PLN      9000.0               PL          0  analyst  "
      ]
     },
     "execution_count": 31,
     "metadata": {},
     "output_type": "execute_result"
    }
   ],
   "source": [
    "data = pd.read_csv('../data/processed/job_offers_2024_08_18.csv', sep=';', decimal='.', encoding='UTF-8')\n",
    "data.head()"
   ]
  },
  {
   "cell_type": "markdown",
   "metadata": {},
   "source": [
    "# 1.Kolik pracovních míst pro konkrétní pozici bylo nalezeno?  \n",
    "job_names = ['data analyst', 'data engineer', 'data scientist']"
   ]
  },
  {
   "cell_type": "code",
   "execution_count": 32,
   "metadata": {},
   "outputs": [
    {
     "data": {
      "text/plain": [
       "(246,)"
      ]
     },
     "execution_count": 32,
     "metadata": {},
     "output_type": "execute_result"
    }
   ],
   "source": [
    "data['Name'].shape"
   ]
  },
  {
   "cell_type": "code",
   "execution_count": 33,
   "metadata": {},
   "outputs": [
    {
     "name": "stdout",
     "output_type": "stream",
     "text": [
      "Number of Analyst jobs is 9\n",
      "Number of Engineer jobs is 151\n",
      "Number of Scientist jobs is 23\n"
     ]
    }
   ],
   "source": [
    "scientist = data.loc[data['Name'].apply(lambda x: True if re.search('scientist', x) else False),]\n",
    "analyst = data.loc[data['Name'].apply(lambda x: True if re.search('analyst', x) else False),]\n",
    "engineer = data.loc[data['Name'].apply(lambda x: True if re.search('engineer', x) else False),]\n",
    "\n",
    "print(f'Number of Analyst jobs is {analyst.shape[0]}' )\n",
    "print(f'Number of Engineer jobs is {engineer.shape[0]}' )\n",
    "print(f'Number of Scientist jobs is {scientist.shape[0]}' )\n"
   ]
  },
  {
   "cell_type": "markdown",
   "metadata": {},
   "source": [
    "# 2. Jaká je průměrná mzda za každou práci?\n"
   ]
  },
  {
   "cell_type": "code",
   "execution_count": 34,
   "metadata": {},
   "outputs": [
    {
     "name": "stdout",
     "output_type": "stream",
     "text": [
      "Average salary per position Analyst: 19283.33 PLN\n",
      "Average salary per position Engineer: 24966.31 PLN\n",
      "Average salary per position Scientist: 24475.41 PLN\n"
     ]
    }
   ],
   "source": [
    "analyst_avg = round(analyst['Salary_avg'].mean(), 2)\n",
    "engineer_avg = round(engineer['Salary_avg'].mean(), 2)\n",
    "scientist_avg = round(scientist['Salary_avg'].mean(), 2)\n",
    "\n",
    "print ('Average salary per position Analyst:', analyst_avg, 'PLN')\n",
    "print ('Average salary per position Engineer:', engineer_avg, 'PLN')\n",
    "print ('Average salary per position Scientist:', scientist_avg, 'PLN')"
   ]
  },
  {
   "cell_type": "markdown",
   "metadata": {},
   "source": [
    "# 3. Které město má nejvíce pracovních nabídek?"
   ]
  },
  {
   "cell_type": "code",
   "execution_count": 35,
   "metadata": {},
   "outputs": [
    {
     "data": {
      "text/plain": [
       "array(['remote', 'warsaw', 'poznań', 'tczew', 'gdynia', 'gdańsk', 'łódź',\n",
       "       'kraków', 'wrocław', 'białystok'], dtype=object)"
      ]
     },
     "execution_count": 35,
     "metadata": {},
     "output_type": "execute_result"
    }
   ],
   "source": [
    "data['Location'].unique()"
   ]
  },
  {
   "cell_type": "code",
   "execution_count": 36,
   "metadata": {},
   "outputs": [
    {
     "name": "stdout",
     "output_type": "stream",
     "text": [
      "There are 1 job offers in białystok.\n",
      "There are 3 job offers in gdańsk.\n",
      "There are 3 job offers in gdynia.\n",
      "There are 19 job offers in kraków.\n",
      "There are 5 job offers in poznań.\n",
      "There are 2 job offers in tczew.\n",
      "There are 38 job offers in warsaw.\n",
      "There are 3 job offers in wrocław.\n",
      "There are 4 job offers in łódź.\n"
     ]
    }
   ],
   "source": [
    "# Filtrace dat, aby se odstranily 'Remote' pozice\n",
    "filtered_data = data[~data['Location'].str.contains('Remote', case=False, na=False)]\n",
    "\n",
    "# Agregace podle Location\n",
    "data_grouped_by_location = filtered_data.groupby('Location')\n",
    "\n",
    "# Výstup počtu pozic v každém městě\n",
    "for location, grouped_data in data_grouped_by_location:\n",
    "    print(f\"There are {len(grouped_data)} job offers in {location}.\")"
   ]
  },
  {
   "cell_type": "markdown",
   "metadata": {},
   "source": [
    "# 4. Kde je nabízena nejvyšší sazba?"
   ]
  },
  {
   "cell_type": "code",
   "execution_count": 37,
   "metadata": {},
   "outputs": [
    {
     "data": {
      "text/plain": [
       "Location\n",
       "białystok    30000.0\n",
       "gdańsk       29400.0\n",
       "gdynia       32000.0\n",
       "kraków       40000.0\n",
       "poznań       26376.0\n",
       "tczew        20000.0\n",
       "warsaw       64000.0\n",
       "wrocław      31500.0\n",
       "łódź         29400.0\n",
       "Name: Salary High, dtype: float64"
      ]
     },
     "execution_count": 37,
     "metadata": {},
     "output_type": "execute_result"
    }
   ],
   "source": [
    "data_grouped_by_location['Salary High'].max()"
   ]
  },
  {
   "cell_type": "markdown",
   "metadata": {},
   "source": [
    "# 5. Jaký je rozdíl mezi nabídkou pro běžného a seniora ?"
   ]
  },
  {
   "cell_type": "code",
   "execution_count": 38,
   "metadata": {},
   "outputs": [
    {
     "data": {
      "text/html": [
       "<div>\n",
       "<style scoped>\n",
       "    .dataframe tbody tr th:only-of-type {\n",
       "        vertical-align: middle;\n",
       "    }\n",
       "\n",
       "    .dataframe tbody tr th {\n",
       "        vertical-align: top;\n",
       "    }\n",
       "\n",
       "    .dataframe thead th {\n",
       "        text-align: right;\n",
       "    }\n",
       "</style>\n",
       "<table border=\"1\" class=\"dataframe\">\n",
       "  <thead>\n",
       "    <tr style=\"text-align: right;\">\n",
       "      <th></th>\n",
       "      <th>is_senior</th>\n",
       "      <th>count</th>\n",
       "      <th>avg_salary</th>\n",
       "    </tr>\n",
       "  </thead>\n",
       "  <tbody>\n",
       "    <tr>\n",
       "      <th>0</th>\n",
       "      <td>0</td>\n",
       "      <td>144</td>\n",
       "      <td>23728.02</td>\n",
       "    </tr>\n",
       "    <tr>\n",
       "      <th>1</th>\n",
       "      <td>1</td>\n",
       "      <td>102</td>\n",
       "      <td>25334.22</td>\n",
       "    </tr>\n",
       "  </tbody>\n",
       "</table>\n",
       "</div>"
      ],
      "text/plain": [
       "   is_senior  count  avg_salary\n",
       "0          0    144    23728.02\n",
       "1          1    102    25334.22"
      ]
     },
     "execution_count": 38,
     "metadata": {},
     "output_type": "execute_result"
    }
   ],
   "source": [
    "result = data.groupby('is_senior').agg(\n",
    "    count=('is_senior', 'size'),\n",
    "    avg_salary=('Salary_avg','mean')\n",
    ").reset_index()\n",
    "round(result, 2)\n"
   ]
  },
  {
   "cell_type": "markdown",
   "metadata": {},
   "source": [
    "# 6. Jaké jsou nejnižší možné náklady na pronájem týmu složeného z datového analytika, datového inženýra a datového vědce?"
   ]
  },
  {
   "cell_type": "code",
   "execution_count": 39,
   "metadata": {},
   "outputs": [
    {
     "name": "stdout",
     "output_type": "stream",
     "text": [
      "Minimum salary per position Analyst: 7000.0 PLN\n",
      "Minimum salary per position Engineer: 4500.0 PLN\n",
      "Minimum salary per position Scientist: 14280.0 PLN\n"
     ]
    }
   ],
   "source": [
    "analyst_min = round(analyst['Salary Low'].min(), 2)\n",
    "engineer_min = round(engineer['Salary Low'].min(), 2)\n",
    "scientist_min = round(scientist['Salary Low'].min(), 2)\n",
    "\n",
    "print ('Minimum salary per position Analyst:', analyst_min, 'PLN')\n",
    "print ('Minimum salary per position Engineer:', engineer_min, 'PLN')\n",
    "print ('Minimum salary per position Scientist:', scientist_min, 'PLN')"
   ]
  },
  {
   "cell_type": "markdown",
   "metadata": {},
   "source": [
    "# 7. Je možné, aby tým vznikl v jednom městě? Pokud ano, kde by to bylo nejlevnější?"
   ]
  },
  {
   "cell_type": "code",
   "execution_count": 40,
   "metadata": {},
   "outputs": [
    {
     "data": {
      "text/html": [
       "<div>\n",
       "<style scoped>\n",
       "    .dataframe tbody tr th:only-of-type {\n",
       "        vertical-align: middle;\n",
       "    }\n",
       "\n",
       "    .dataframe tbody tr th {\n",
       "        vertical-align: top;\n",
       "    }\n",
       "\n",
       "    .dataframe thead th {\n",
       "        text-align: right;\n",
       "    }\n",
       "</style>\n",
       "<table border=\"1\" class=\"dataframe\">\n",
       "  <thead>\n",
       "    <tr style=\"text-align: right;\">\n",
       "      <th>pozice</th>\n",
       "      <th>0</th>\n",
       "      <th>analyst</th>\n",
       "      <th>engineer</th>\n",
       "      <th>scientist</th>\n",
       "    </tr>\n",
       "    <tr>\n",
       "      <th>Location</th>\n",
       "      <th></th>\n",
       "      <th></th>\n",
       "      <th></th>\n",
       "      <th></th>\n",
       "    </tr>\n",
       "  </thead>\n",
       "  <tbody>\n",
       "    <tr>\n",
       "      <th>białystok</th>\n",
       "      <td>0</td>\n",
       "      <td>0</td>\n",
       "      <td>1</td>\n",
       "      <td>0</td>\n",
       "    </tr>\n",
       "    <tr>\n",
       "      <th>gdańsk</th>\n",
       "      <td>3</td>\n",
       "      <td>0</td>\n",
       "      <td>0</td>\n",
       "      <td>0</td>\n",
       "    </tr>\n",
       "    <tr>\n",
       "      <th>gdynia</th>\n",
       "      <td>1</td>\n",
       "      <td>0</td>\n",
       "      <td>0</td>\n",
       "      <td>2</td>\n",
       "    </tr>\n",
       "    <tr>\n",
       "      <th>kraków</th>\n",
       "      <td>2</td>\n",
       "      <td>0</td>\n",
       "      <td>16</td>\n",
       "      <td>1</td>\n",
       "    </tr>\n",
       "    <tr>\n",
       "      <th>poznań</th>\n",
       "      <td>2</td>\n",
       "      <td>0</td>\n",
       "      <td>3</td>\n",
       "      <td>0</td>\n",
       "    </tr>\n",
       "    <tr>\n",
       "      <th>remote</th>\n",
       "      <td>41</td>\n",
       "      <td>5</td>\n",
       "      <td>110</td>\n",
       "      <td>12</td>\n",
       "    </tr>\n",
       "    <tr>\n",
       "      <th>tczew</th>\n",
       "      <td>2</td>\n",
       "      <td>0</td>\n",
       "      <td>0</td>\n",
       "      <td>0</td>\n",
       "    </tr>\n",
       "    <tr>\n",
       "      <th>warsaw</th>\n",
       "      <td>14</td>\n",
       "      <td>4</td>\n",
       "      <td>18</td>\n",
       "      <td>2</td>\n",
       "    </tr>\n",
       "    <tr>\n",
       "      <th>wrocław</th>\n",
       "      <td>0</td>\n",
       "      <td>0</td>\n",
       "      <td>3</td>\n",
       "      <td>0</td>\n",
       "    </tr>\n",
       "    <tr>\n",
       "      <th>łódź</th>\n",
       "      <td>2</td>\n",
       "      <td>0</td>\n",
       "      <td>0</td>\n",
       "      <td>2</td>\n",
       "    </tr>\n",
       "  </tbody>\n",
       "</table>\n",
       "</div>"
      ],
      "text/plain": [
       "pozice      0  analyst  engineer  scientist\n",
       "Location                                   \n",
       "białystok   0        0         1          0\n",
       "gdańsk      3        0         0          0\n",
       "gdynia      1        0         0          2\n",
       "kraków      2        0        16          1\n",
       "poznań      2        0         3          0\n",
       "remote     41        5       110         12\n",
       "tczew       2        0         0          0\n",
       "warsaw     14        4        18          2\n",
       "wrocław     0        0         3          0\n",
       "łódź        2        0         0          2"
      ]
     },
     "execution_count": 40,
     "metadata": {},
     "output_type": "execute_result"
    }
   ],
   "source": [
    "pivot = data.pivot_table(\n",
    "    index='Location', \n",
    "    columns= 'pozice', \n",
    "    aggfunc='size', \n",
    "    fill_value=0\n",
    "    )\n",
    "# Přesvědčíme se, že každá z pozic je v daném městě alespoň jednou zastoupena\n",
    "pivot"
   ]
  },
  {
   "cell_type": "markdown",
   "metadata": {},
   "source": [
    "Ano pouze ve Warsaw"
   ]
  },
  {
   "cell_type": "code",
   "execution_count": 41,
   "metadata": {},
   "outputs": [
    {
     "data": {
      "text/html": [
       "<div>\n",
       "<style scoped>\n",
       "    .dataframe tbody tr th:only-of-type {\n",
       "        vertical-align: middle;\n",
       "    }\n",
       "\n",
       "    .dataframe tbody tr th {\n",
       "        vertical-align: top;\n",
       "    }\n",
       "\n",
       "    .dataframe thead th {\n",
       "        text-align: right;\n",
       "    }\n",
       "</style>\n",
       "<table border=\"1\" class=\"dataframe\">\n",
       "  <thead>\n",
       "    <tr style=\"text-align: right;\">\n",
       "      <th>pozice</th>\n",
       "      <th>0</th>\n",
       "      <th>analyst</th>\n",
       "      <th>engineer</th>\n",
       "      <th>scientist</th>\n",
       "    </tr>\n",
       "    <tr>\n",
       "      <th>Location</th>\n",
       "      <th></th>\n",
       "      <th></th>\n",
       "      <th></th>\n",
       "      <th></th>\n",
       "    </tr>\n",
       "  </thead>\n",
       "  <tbody>\n",
       "    <tr>\n",
       "      <th>białystok</th>\n",
       "      <td>0.0</td>\n",
       "      <td>0.0</td>\n",
       "      <td>24000.0</td>\n",
       "      <td>0.0</td>\n",
       "    </tr>\n",
       "    <tr>\n",
       "      <th>gdańsk</th>\n",
       "      <td>25200.0</td>\n",
       "      <td>0.0</td>\n",
       "      <td>0.0</td>\n",
       "      <td>0.0</td>\n",
       "    </tr>\n",
       "    <tr>\n",
       "      <th>gdynia</th>\n",
       "      <td>27000.0</td>\n",
       "      <td>0.0</td>\n",
       "      <td>0.0</td>\n",
       "      <td>17000.0</td>\n",
       "    </tr>\n",
       "    <tr>\n",
       "      <th>kraków</th>\n",
       "      <td>28000.0</td>\n",
       "      <td>0.0</td>\n",
       "      <td>15000.0</td>\n",
       "      <td>26000.0</td>\n",
       "    </tr>\n",
       "    <tr>\n",
       "      <th>poznań</th>\n",
       "      <td>18000.0</td>\n",
       "      <td>0.0</td>\n",
       "      <td>19320.0</td>\n",
       "      <td>0.0</td>\n",
       "    </tr>\n",
       "    <tr>\n",
       "      <th>remote</th>\n",
       "      <td>7000.0</td>\n",
       "      <td>7000.0</td>\n",
       "      <td>7000.0</td>\n",
       "      <td>16254.0</td>\n",
       "    </tr>\n",
       "    <tr>\n",
       "      <th>tczew</th>\n",
       "      <td>17000.0</td>\n",
       "      <td>0.0</td>\n",
       "      <td>0.0</td>\n",
       "      <td>0.0</td>\n",
       "    </tr>\n",
       "    <tr>\n",
       "      <th>warsaw</th>\n",
       "      <td>7600.0</td>\n",
       "      <td>8000.0</td>\n",
       "      <td>4500.0</td>\n",
       "      <td>22400.0</td>\n",
       "    </tr>\n",
       "    <tr>\n",
       "      <th>wrocław</th>\n",
       "      <td>0.0</td>\n",
       "      <td>0.0</td>\n",
       "      <td>26500.0</td>\n",
       "      <td>0.0</td>\n",
       "    </tr>\n",
       "    <tr>\n",
       "      <th>łódź</th>\n",
       "      <td>21840.0</td>\n",
       "      <td>0.0</td>\n",
       "      <td>0.0</td>\n",
       "      <td>25200.0</td>\n",
       "    </tr>\n",
       "  </tbody>\n",
       "</table>\n",
       "</div>"
      ],
      "text/plain": [
       "pozice           0  analyst  engineer  scientist\n",
       "Location                                        \n",
       "białystok      0.0      0.0   24000.0        0.0\n",
       "gdańsk     25200.0      0.0       0.0        0.0\n",
       "gdynia     27000.0      0.0       0.0    17000.0\n",
       "kraków     28000.0      0.0   15000.0    26000.0\n",
       "poznań     18000.0      0.0   19320.0        0.0\n",
       "remote      7000.0   7000.0    7000.0    16254.0\n",
       "tczew      17000.0      0.0       0.0        0.0\n",
       "warsaw      7600.0   8000.0    4500.0    22400.0\n",
       "wrocław        0.0      0.0   26500.0        0.0\n",
       "łódź       21840.0      0.0       0.0    25200.0"
      ]
     },
     "execution_count": 41,
     "metadata": {},
     "output_type": "execute_result"
    }
   ],
   "source": [
    "pivot = data.pivot_table(\n",
    "    index='Location', \n",
    "    columns= 'pozice', \n",
    "    values='Salary Low',\n",
    "    aggfunc='min', \n",
    "    fill_value=0\n",
    "    )\n",
    "# Přesvědčíme se, že každá z pozic je v daném městě alespoň jednou zastoupena\n",
    "pivot"
   ]
  },
  {
   "cell_type": "markdown",
   "metadata": {},
   "source": [
    "# Kromě toho vizualizujte podsekce 1–5 pomocí typů grafů podle vašeho výběru."
   ]
  },
  {
   "cell_type": "markdown",
   "metadata": {},
   "source": [
    "1. Počet pozic"
   ]
  },
  {
   "cell_type": "code",
   "execution_count": 42,
   "metadata": {},
   "outputs": [],
   "source": [
    "num_analyst = analyst.shape[0]\n",
    "num_engineer = engineer.shape[0]\n",
    "num_scientist = scientist.shape[0]\n"
   ]
  },
  {
   "cell_type": "code",
   "execution_count": 43,
   "metadata": {},
   "outputs": [
    {
     "data": {
      "image/png": "[encoded data removed]",
      "text/plain": [
       "<Figure size 1500x600 with 1 Axes>"
      ]
     },
     "metadata": {},
     "output_type": "display_data"
    }
   ],
   "source": [
    "categories = ['Analyst', 'Engineer', 'Scientist']\n",
    "counts = [num_analyst, num_engineer, num_scientist]\n",
    "\n",
    "# Vytvoření grafu\n",
    "plt.figure(figsize=(15, 6))\n",
    "plt.bar(categories, counts, color=['lightblue', 'lightgreen', 'pink'])\n",
    "plt.xlabel('Job Titles')\n",
    "plt.ylabel('Number of Jobs')\n",
    "plt.title('Number of Job Positions')\n",
    "plt.show()\n"
   ]
  },
  {
   "cell_type": "markdown",
   "metadata": {},
   "source": [
    "2. průměrná mzda"
   ]
  },
  {
   "cell_type": "code",
   "execution_count": 44,
   "metadata": {},
   "outputs": [
    {
     "data": {
      "image/png": "[encoded data removed]",
      "text/plain": [
       "<Figure size 1500x600 with 1 Axes>"
      ]
     },
     "metadata": {},
     "output_type": "display_data"
    }
   ],
   "source": [
    "categories = ['Analyst', 'Engineer', 'Scientist']\n",
    "counts = [analyst_avg, engineer_avg, scientist_avg]\n",
    "\n",
    "# Vytvoření grafu\n",
    "plt.figure(figsize=(15, 6))\n",
    "plt.bar(categories, counts, color=['lightblue', 'lightgreen', 'pink'])\n",
    "plt.xlabel('Job Titles')\n",
    "plt.ylabel('Averange salary')\n",
    "plt.title('Average salary for each position')\n",
    "plt.show()\n"
   ]
  },
  {
   "cell_type": "markdown",
   "metadata": {},
   "source": [
    "3. které město má nejvíce nabídek"
   ]
  },
  {
   "cell_type": "code",
   "execution_count": 45,
   "metadata": {},
   "outputs": [
    {
     "name": "stdout",
     "output_type": "stream",
     "text": [
      "There are 1 job offers in białystok.\n",
      "There are 3 job offers in gdańsk.\n",
      "There are 3 job offers in gdynia.\n",
      "There are 19 job offers in kraków.\n",
      "There are 5 job offers in poznań.\n",
      "There are 2 job offers in tczew.\n",
      "There are 38 job offers in warsaw.\n",
      "There are 3 job offers in wrocław.\n",
      "There are 4 job offers in łódź.\n"
     ]
    },
    {
     "data": {
      "text/plain": [
       "[1, 3, 3, 19, 5, 2, 38, 3, 4]"
      ]
     },
     "execution_count": 45,
     "metadata": {},
     "output_type": "execute_result"
    }
   ],
   "source": [
    "# Filtrace dat, aby se odstranily 'Remote' pozice\n",
    "filtered_data = data[~data['Location'].str.contains('Remote', case=False, na=False)]\n",
    "\n",
    "# Agregace podle Location\n",
    "data_grouped_by_location = filtered_data.groupby('Location')\n",
    "\n",
    "locations = []\n",
    "counts = []\n",
    "# Výstup počtu pozic v každém městě\n",
    "for location, grouped_data in data_grouped_by_location:\n",
    "    print(f\"There are {len(grouped_data)} job offers in {location}.\")\n",
    "\n",
    "    locations.append(location)\n",
    "    counts.append(len(grouped_data))\n",
    "locations\n",
    "counts\n"
   ]
  },
  {
   "cell_type": "code",
   "execution_count": 46,
   "metadata": {},
   "outputs": [
    {
     "data": {
      "image/png": "[encoded data removed]",
      "text/plain": [
       "<Figure size 1500x600 with 1 Axes>"
      ]
     },
     "metadata": {},
     "output_type": "display_data"
    }
   ],
   "source": [
    "\n",
    "# Vytvoření grafu\n",
    "plt.figure(figsize=(15, 6))\n",
    "plt.bar(locations, counts, color = 'lightblue')\n",
    "plt.xlabel('Cities')\n",
    "plt.ylabel('Number of offers')\n",
    "plt.title('Number of offers in each city')\n",
    "plt.show()"
   ]
  },
  {
   "cell_type": "markdown",
   "metadata": {},
   "source": [
    "4. kde je nabízena nejvyšší sazba"
   ]
  },
  {
   "cell_type": "code",
   "execution_count": 47,
   "metadata": {},
   "outputs": [],
   "source": [
    "counts_max = data_grouped_by_location['Salary High'].max()\n"
   ]
  },
  {
   "cell_type": "code",
   "execution_count": 48,
   "metadata": {},
   "outputs": [
    {
     "data": {
      "image/png": "[encoded data removed]",
      "text/plain": [
       "<Figure size 1500x600 with 1 Axes>"
      ]
     },
     "metadata": {},
     "output_type": "display_data"
    }
   ],
   "source": [
    "# Vytvoření grafu\n",
    "plt.figure(figsize=(15, 6))\n",
    "plt.bar(locations, counts_max, color = 'lightblue')\n",
    "plt.xlabel('Cities')\n",
    "plt.ylabel('Highest salary')\n",
    "plt.title('Highest salary in each city')\n",
    "plt.show()"
   ]
  },
  {
   "cell_type": "markdown",
   "metadata": {},
   "source": [
    "5. rozdíl mezi běžným a senior"
   ]
  },
  {
   "cell_type": "code",
   "execution_count": 49,
   "metadata": {},
   "outputs": [
    {
     "data": {
      "image/png": "[encoded data removed]",
      "text/plain": [
       "<Figure size 1000x800 with 1 Axes>"
      ]
     },
     "metadata": {},
     "output_type": "display_data"
    }
   ],
   "source": [
    "# Příklad DataFrame\n",
    "result = pd.DataFrame({\n",
    "    'is_senior': [0, 1],\n",
    "    'count': [127, 95],\n",
    "    'avg_salary': [23218.75, 25347.22]\n",
    "})\n",
    "\n",
    "# Výpočet rozdílu v průměrném platu mezi seniory a regular pozicemi\n",
    "regular_salary = result.loc[result['is_senior'] == 0, 'avg_salary'].values[0]\n",
    "senior_salary = result.loc[result['is_senior'] == 1, 'avg_salary'].values[0]\n",
    "salary_difference = senior_salary - regular_salary\n",
    "\n",
    "categories = ['Regular', 'Senior']\n",
    "salaries = [regular_salary, senior_salary]\n",
    "\n",
    "# Vytvoření grafu\n",
    "plt.figure(figsize=(10, 8))\n",
    "plt.bar(categories, salaries, color=['lightblue', 'pink'])\n",
    "plt.xlabel('Position Type')\n",
    "plt.ylabel('Average Salary')\n",
    "plt.title('Average Salary Comparison: Regular vs Senior')\n",
    "plt.grid(axis='y')\n",
    "\n",
    "# Přidání hodnot nad sloupce\n",
    "for i, value in enumerate(salaries):\n",
    "    plt.text(i, value + 500, f'{value:,.2f} PLN', ha='center', va='bottom')"
   ]
  }
 ],
 "metadata": {
  "kernelspec": {
   "display_name": "base",
   "language": "python",
   "name": "python3"
  },
  "language_info": {
   "codemirror_mode": {
    "name": "ipython",
    "version": 3
   },
   "file_extension": ".py",
   "mimetype": "text/x-python",
   "name": "python",
   "nbconvert_exporter": "python",
   "pygments_lexer": "ipython3",
   "version": "3.11.7"
  }
 },
 "nbformat": 4,
 "nbformat_minor": 2
}
